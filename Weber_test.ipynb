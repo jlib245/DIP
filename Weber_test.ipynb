{
 "cells": [
  {
   "cell_type": "code",
   "execution_count": null,
   "metadata": {},
   "outputs": [],
   "source": [
    "\n",
    "import numpy as np\n",
    "import cv2\n",
    "import matplotlib.pyplot as plt\n",
    "def Weber_test(obj, sur1, sur2):\n",
    "    \n",
    "    surround1_lum = np.full((500,500,3), sur1, dtype=np.uint8)\n",
    "    surround2_lum = np.full((500,500,3), sur2, dtype=np.uint8)\n",
    "    \n",
    "    img1 = cv2.rectangle(surround1_lum, (100,100), (400,400), obj, -1)\n",
    "    img2 = cv2.rectangle(surround2_lum, (100,100), (400,400), obj, -1)\n",
    "    \n",
    "    img1_name = f\"Weber's law : Surround = {sur1}, Object = {obj}\"\n",
    "    img2_name = f\"Weber's law : Surround = {sur2}, Object = {obj}\"\n",
    "    \n",
    "    cv2.imshow(img1_name, img1)\n",
    "    cv2.imshow(img2_name, img2)\n",
    "    cv2.waitKey(0)\n",
    "    cv2.destroyAllWindows()\n",
    "    \n",
    "    \n",
    "    fig = plt.figure()\n",
    "    rows = 1 \n",
    "    cols = 2\n",
    "    \n",
    "    ax1 = fig.add_subplot(rows, cols, 1)\n",
    "    ax1.imshow(img1)\n",
    "    ax1.set_title(\"March band 1\")\n",
    "    \n",
    "    ax2 = fig.add_subplot(rows, cols, 2)\n",
    "    ax2.imshow(img2)\n",
    "    ax2.set_title(\"March band 2\")\n",
    "    \n",
    "    return 0\n",
    "    "
   ]
  },
  {
   "cell_type": "code",
   "execution_count": null,
   "metadata": {},
   "outputs": [],
   "source": []
  }
 ],
 "metadata": {
  "kernelspec": {
   "display_name": ".venv",
   "language": "python",
   "name": "python3"
  },
  "language_info": {
   "codemirror_mode": {
    "name": "ipython",
    "version": 3
   },
   "file_extension": ".py",
   "mimetype": "text/x-python",
   "name": "python",
   "nbconvert_exporter": "python",
   "pygments_lexer": "ipython3",
   "version": "3.10.16"
  }
 },
 "nbformat": 4,
 "nbformat_minor": 2
}
