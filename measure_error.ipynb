{
 "cells": [
  {
   "cell_type": "code",
   "execution_count": 49,
   "metadata": {},
   "outputs": [],
   "source": [
    "import cv2\n",
    "import numpy as np"
   ]
  },
  {
   "cell_type": "code",
   "execution_count": 50,
   "metadata": {},
   "outputs": [],
   "source": [
    "lenna_gray = cv2.imread(\"pic/lenna_gray.bmp\").astype(np.float64)\n",
    "lenna_blur = cv2.imread(\"pic/lenna_blur.bmp\").astype(np.float64)\n",
    "lenna_noise = cv2.imread(\"pic/lenna_noise.bmp\").astype(np.float64)"
   ]
  },
  {
   "cell_type": "code",
   "execution_count": 51,
   "metadata": {},
   "outputs": [
    {
     "name": "stdout",
     "output_type": "stream",
     "text": [
      "lenna_blur_mse : 32.467830657958984\n",
      "lenna_noise_mse : 36.051177978515625\n"
     ]
    }
   ],
   "source": [
    "lenna_blur_mse = np.mean(np.square(lenna_gray - lenna_blur))\n",
    "lenna_noise_mse = np.mean(np.square(lenna_gray - lenna_noise))\n",
    "print(\"lenna_blur_mse :\",lenna_blur_mse)\n",
    "print(\"lenna_noise_mse :\",lenna_noise_mse)"
   ]
  },
  {
   "cell_type": "code",
   "execution_count": 52,
   "metadata": {},
   "outputs": [
    {
     "name": "stdout",
     "output_type": "stream",
     "text": [
      "lenna_blur_snr : 18.546044325949797\n",
      "lenna_noise_snr : 18.091382448168037\n"
     ]
    }
   ],
   "source": [
    "lenna_blur_snr = 10 * np.log10(np.var(lenna_gray)/lenna_blur_mse)\n",
    "lenna_noise_snr = 10 * np.log10(np.var(lenna_gray)/lenna_noise_mse)\n",
    "print(\"lenna_blur_snr :\",lenna_blur_snr)\n",
    "print(\"lenna_noise_snr :\",lenna_noise_snr)"
   ]
  },
  {
   "cell_type": "code",
   "execution_count": null,
   "metadata": {},
   "outputs": [
    {
     "name": "stdout",
     "output_type": "stream",
     "text": [
      "lenna_blur_psnr : 30.460539297487493\n",
      "lenna_noise_psnr : 30.005877419705733\n"
     ]
    }
   ],
   "source": [
    "lenna_blur_psnr = 10 * np.log10(np.square(np.ptp(lenna_gray))/lenna_blur_mse)\n",
    "lenna_noise_psnr = 10 * np.log10(np.square(np.ptp(lenna_gray))/lenna_noise_mse)\n",
    "print(\"lenna_blur_psnr :\",lenna_blur_psnr)\n",
    "print(\"lenna_noise_psnr :\",lenna_noise_psnr)"
   ]
  }
 ],
 "metadata": {
  "kernelspec": {
   "display_name": ".venv",
   "language": "python",
   "name": "python3"
  },
  "language_info": {
   "codemirror_mode": {
    "name": "ipython",
    "version": 3
   },
   "file_extension": ".py",
   "mimetype": "text/x-python",
   "name": "python",
   "nbconvert_exporter": "python",
   "pygments_lexer": "ipython3",
   "version": "3.10.16"
  }
 },
 "nbformat": 4,
 "nbformat_minor": 2
}
